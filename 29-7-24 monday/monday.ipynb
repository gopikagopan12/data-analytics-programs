{
 "cells": [
  {
   "cell_type": "markdown",
   "id": "d221c960-6ed4-45f9-a95a-06341698c135",
   "metadata": {},
   "source": [
    "### Snorecull"
   ]
  },
  {
   "cell_type": "code",
   "execution_count": 5,
   "id": "c8c05e59-1fde-44d3-8be2-95d2076b0637",
   "metadata": {},
   "outputs": [
    {
     "name": "stdout",
     "output_type": "stream",
     "text": [
      "Requirement already satisfied: scipy in c:\\users\\cdac\\appdata\\local\\programs\\python\\python312\\lib\\site-packages (1.14.0)\n",
      "Requirement already satisfied: numpy<2.3,>=1.23.5 in c:\\users\\cdac\\appdata\\local\\programs\\python\\python312\\lib\\site-packages (from scipy) (2.0.1)\n",
      "Note: you may need to restart the kernel to use updated packages.\n"
     ]
    },
    {
     "name": "stderr",
     "output_type": "stream",
     "text": [
      "\n",
      "[notice] A new release of pip is available: 24.0 -> 24.1.2\n",
      "[notice] To update, run: python.exe -m pip install --upgrade pip\n"
     ]
    }
   ],
   "source": [
    "pip install  scipy"
   ]
  },
  {
   "cell_type": "code",
   "execution_count": 7,
   "id": "693cf10a-fa41-49aa-934f-250e6376fd07",
   "metadata": {},
   "outputs": [],
   "source": [
    "from scipy.stats import binomtest"
   ]
  },
  {
   "cell_type": "code",
   "execution_count": 20,
   "id": "c0895952-e91a-43b3-9527-28977951d60a",
   "metadata": {},
   "outputs": [],
   "source": [
    "p_valueb=binomtest(k=11,n=15,p=0.9,alternative='two-sided')"
   ]
  },
  {
   "cell_type": "code",
   "execution_count": 21,
   "id": "edcf842a-6ed2-432c-811d-eae009c85a0f",
   "metadata": {},
   "outputs": [
    {
     "data": {
      "text/plain": [
       "BinomTestResult(k=11, n=15, alternative='two-sided', statistic=0.7333333333333333, pvalue=0.05555563000753595)"
      ]
     },
     "execution_count": 21,
     "metadata": {},
     "output_type": "execute_result"
    }
   ],
   "source": [
    "p_valueb"
   ]
  },
  {
   "cell_type": "code",
   "execution_count": 32,
   "id": "12d003cf-4eb9-4971-9e94-8d712029e30a",
   "metadata": {},
   "outputs": [
    {
     "ename": "TypeError",
     "evalue": "'>=' not supported between instances of 'BinomTestResult' and 'float'",
     "output_type": "error",
     "traceback": [
      "\u001b[1;31m---------------------------------------------------------------------------\u001b[0m",
      "\u001b[1;31mTypeError\u001b[0m                                 Traceback (most recent call last)",
      "Cell \u001b[1;32mIn[32], line 1\u001b[0m\n\u001b[1;32m----> 1\u001b[0m \u001b[38;5;28;01mif\u001b[39;00m (\u001b[43mp_valueb\u001b[49m\u001b[38;5;241;43m>\u001b[39;49m\u001b[38;5;241;43m=\u001b[39;49m\u001b[43malpha\u001b[49m):\n\u001b[0;32m      2\u001b[0m     \u001b[38;5;28mprint\u001b[39m(\u001b[38;5;124m\"\u001b[39m\u001b[38;5;124mAccept null hypothesis, that snorecull company cures 90\u001b[39m\u001b[38;5;132;01m% o\u001b[39;00m\u001b[38;5;124mf people\u001b[39m\u001b[38;5;124m\"\u001b[39m)\n\u001b[0;32m      3\u001b[0m \u001b[38;5;28;01melse\u001b[39;00m:\n",
      "\u001b[1;31mTypeError\u001b[0m: '>=' not supported between instances of 'BinomTestResult' and 'float'"
     ]
    }
   ],
   "source": [
    "if (p_valueb>=alpha):\n",
    "    print(\"Accept null hypothesis, that snorecull company cures 90% of people\")\n",
    "else:\n",
    "    print(\"Reject null hypothesis, that medicine does not cure for 90% of people\")"
   ]
  },
  {
   "cell_type": "markdown",
   "id": "75e01a09-1ec1-4597-8b27-c6db2270789b",
   "metadata": {},
   "source": [
    "### botanist"
   ]
  },
  {
   "cell_type": "code",
   "execution_count": 15,
   "id": "bf2e8e9e-cb6b-458d-abd7-9bc25c17c2e8",
   "metadata": {},
   "outputs": [],
   "source": [
    "from scipy import stats"
   ]
  },
  {
   "cell_type": "code",
   "execution_count": 16,
   "id": "b453cd7c-dead-4f30-b308-2174a7d7aecb",
   "metadata": {},
   "outputs": [],
   "source": [
    "b_data=[14,14,16,13,12,17,15,14,15,13,15,14]\n",
    "alpha=0.05"
   ]
  },
  {
   "cell_type": "code",
   "execution_count": 17,
   "id": "55fc8d44-6813-4054-8acd-ae3bdedb7fd8",
   "metadata": {},
   "outputs": [
    {
     "data": {
      "text/plain": [
       "TtestResult(statistic=np.float64(-1.6848470783484626), pvalue=np.float64(0.12014460742498101), df=np.int64(11))"
      ]
     },
     "execution_count": 17,
     "metadata": {},
     "output_type": "execute_result"
    }
   ],
   "source": [
    "stats.ttest_1samp(a=b_data,popmean=15)"
   ]
  },
  {
   "cell_type": "code",
   "execution_count": 18,
   "id": "c1b5267f-9ba8-4ba4-8b62-43952748bd98",
   "metadata": {},
   "outputs": [],
   "source": [
    "t_statistic,p_value=stats.ttest_1samp(a=b_data,popmean=15)"
   ]
  },
  {
   "cell_type": "code",
   "execution_count": 19,
   "id": "9b107a45-b5ef-46cc-925f-6e6cca1953b5",
   "metadata": {},
   "outputs": [
    {
     "name": "stdout",
     "output_type": "stream",
     "text": [
      "There is insufficient evidence to reject the null hypothesis\n"
     ]
    }
   ],
   "source": [
    "if (p_value>=alpha):\n",
    "    print(\"There is insufficient evidence to reject the null hypothesis\")\n",
    "else:\n",
    "    print(\"There is insufficient evidence to prove difference in mean heights\")"
   ]
  },
  {
   "cell_type": "markdown",
   "id": "417dd211-669a-4789-9040-c280b3d1fb6a",
   "metadata": {},
   "source": [
    "### hypothesis test"
   ]
  },
  {
   "cell_type": "code",
   "execution_count": 22,
   "id": "891fdcc0-680a-48de-a287-ea872127d02b",
   "metadata": {},
   "outputs": [],
   "source": [
    "import numpy as np\n",
    "group1=np.array([14,15,15,16,13,8,14,17,16,14,19,20,21,15,15,16,17,14,13,15])\n",
    "group2=np.array([15,17,14,17,8,12,19,19,14,17,22,24,16,13,16,15,17,14,19,12])"
   ]
  },
  {
   "cell_type": "code",
   "execution_count": 23,
   "id": "a707c0d6-23e5-40f8-88c0-59524e4a34d4",
   "metadata": {},
   "outputs": [],
   "source": [
    "t2_statistic,p_value2=stats.ttest_ind(a=group1,b=group2,equal_var=True)"
   ]
  },
  {
   "cell_type": "code",
   "execution_count": 24,
   "id": "5e704b42-b788-42bf-bf4e-88e0de94d307",
   "metadata": {},
   "outputs": [
    {
     "data": {
      "text/plain": [
       "np.float64(0.528400652246219)"
      ]
     },
     "execution_count": 24,
     "metadata": {},
     "output_type": "execute_result"
    }
   ],
   "source": [
    "p_value2"
   ]
  },
  {
   "cell_type": "code",
   "execution_count": 27,
   "id": "2d3af042-bba8-4ead-9525-557308fced2d",
   "metadata": {},
   "outputs": [
    {
     "name": "stdout",
     "output_type": "stream",
     "text": [
      "Accept null hypothesis that they have equal mean heights\n"
     ]
    }
   ],
   "source": [
    "if (p_value2>=alpha):\n",
    "    print(\"Accept null hypothesis that they have equal mean heights\")\n",
    "else:\n",
    "    print(\"there is insufficient evidemvce to prove difference in mean height\")"
   ]
  },
  {
   "cell_type": "code",
   "execution_count": null,
   "id": "7d66f044-cfcd-422a-9485-46eda3a0cf38",
   "metadata": {},
   "outputs": [],
   "source": [
    "pip install plotly"
   ]
  },
  {
   "cell_type": "markdown",
   "id": "60ee154a-f1e7-43d5-90f8-e00b4f46e9e5",
   "metadata": {},
   "source": [
    "### corelation"
   ]
  },
  {
   "cell_type": "code",
   "execution_count": 12,
   "id": "2e82ba8d-8f69-4979-a43d-8a273a161516",
   "metadata": {},
   "outputs": [],
   "source": [
    "import pandas as pd\n",
    "import plotly.express as px\n",
    "import seaborn as sns\n",
    "data2=[1,1,1,2,2,2,3,3,3,4,4,4,4,5,5,5,5,6,6,6,6,7,7,7,10]\n",
    "data2_100=[100,120,130,210,220,250,330,340,350,410,450,420,470,500,510,520,530,610,630,650,660,710,730,750,1000]\n",
    "data2_10=[-10,-12,-13,-21,-22,-25,-33,-34,-35,-41,-45,-42,-47,-50,-51,-52,-53,-61,-63,-65,-66,-71,-73,-75,-100]\n",
    "df1=pd.DataFrame({'Col1':data2,'Col2':data2_100,'Col3':data2_10})\n",
    "\n"
   ]
  },
  {
   "cell_type": "code",
   "execution_count": 7,
   "id": "f46f7ece-f3d8-4a02-9f6c-0141851f0b8f",
   "metadata": {},
   "outputs": [
    {
     "data": {
      "text/html": [
       "<div>\n",
       "<style scoped>\n",
       "    .dataframe tbody tr th:only-of-type {\n",
       "        vertical-align: middle;\n",
       "    }\n",
       "\n",
       "    .dataframe tbody tr th {\n",
       "        vertical-align: top;\n",
       "    }\n",
       "\n",
       "    .dataframe thead th {\n",
       "        text-align: right;\n",
       "    }\n",
       "</style>\n",
       "<table border=\"1\" class=\"dataframe\">\n",
       "  <thead>\n",
       "    <tr style=\"text-align: right;\">\n",
       "      <th></th>\n",
       "      <th>Col1</th>\n",
       "      <th>Col2</th>\n",
       "      <th>Col3</th>\n",
       "    </tr>\n",
       "  </thead>\n",
       "  <tbody>\n",
       "    <tr>\n",
       "      <th>0</th>\n",
       "      <td>1</td>\n",
       "      <td>100</td>\n",
       "      <td>-10</td>\n",
       "    </tr>\n",
       "    <tr>\n",
       "      <th>1</th>\n",
       "      <td>1</td>\n",
       "      <td>120</td>\n",
       "      <td>-12</td>\n",
       "    </tr>\n",
       "    <tr>\n",
       "      <th>2</th>\n",
       "      <td>1</td>\n",
       "      <td>130</td>\n",
       "      <td>-13</td>\n",
       "    </tr>\n",
       "    <tr>\n",
       "      <th>3</th>\n",
       "      <td>2</td>\n",
       "      <td>210</td>\n",
       "      <td>-21</td>\n",
       "    </tr>\n",
       "    <tr>\n",
       "      <th>4</th>\n",
       "      <td>2</td>\n",
       "      <td>220</td>\n",
       "      <td>-22</td>\n",
       "    </tr>\n",
       "  </tbody>\n",
       "</table>\n",
       "</div>"
      ],
      "text/plain": [
       "   Col1  Col2  Col3\n",
       "0     1   100   -10\n",
       "1     1   120   -12\n",
       "2     1   130   -13\n",
       "3     2   210   -21\n",
       "4     2   220   -22"
      ]
     },
     "execution_count": 7,
     "metadata": {},
     "output_type": "execute_result"
    }
   ],
   "source": [
    "df1.head()"
   ]
  },
  {
   "cell_type": "code",
   "execution_count": 13,
   "id": "e7d1bc4e-2a88-4770-a945-e948948020ef",
   "metadata": {},
   "outputs": [
    {
     "data": {
      "text/plain": [
       "<Axes: xlabel='Col1'>"
      ]
     },
     "execution_count": 13,
     "metadata": {},
     "output_type": "execute_result"
    },
    {
     "data": {
      "image/png": "[encoded data removed]",
      "text/plain": [
       "<Figure size 640x480 with 1 Axes>"
      ]
     },
     "metadata": {},
     "output_type": "display_data"
    }
   ],
   "source": [
    "sns.boxplot(df1,x='Col1',orient='h')"
   ]
  },
  {
   "cell_type": "code",
   "execution_count": 15,
   "id": "0d4b7854-6851-4f45-96f4-b30cd1bf800c",
   "metadata": {},
   "outputs": [
    {
     "data": {
      "text/html": [
       "<div>\n",
       "<style scoped>\n",
       "    .dataframe tbody tr th:only-of-type {\n",
       "        vertical-align: middle;\n",
       "    }\n",
       "\n",
       "    .dataframe tbody tr th {\n",
       "        vertical-align: top;\n",
       "    }\n",
       "\n",
       "    .dataframe thead th {\n",
       "        text-align: right;\n",
       "    }\n",
       "</style>\n",
       "<table border=\"1\" class=\"dataframe\">\n",
       "  <thead>\n",
       "    <tr style=\"text-align: right;\">\n",
       "      <th></th>\n",
       "      <th>Col1</th>\n",
       "      <th>Col2</th>\n",
       "      <th>Col3</th>\n",
       "    </tr>\n",
       "  </thead>\n",
       "  <tbody>\n",
       "    <tr>\n",
       "      <th>Col1</th>\n",
       "      <td>1.000000</td>\n",
       "      <td>0.996057</td>\n",
       "      <td>-0.996057</td>\n",
       "    </tr>\n",
       "    <tr>\n",
       "      <th>Col2</th>\n",
       "      <td>0.996057</td>\n",
       "      <td>1.000000</td>\n",
       "      <td>-1.000000</td>\n",
       "    </tr>\n",
       "    <tr>\n",
       "      <th>Col3</th>\n",
       "      <td>-0.996057</td>\n",
       "      <td>-1.000000</td>\n",
       "      <td>1.000000</td>\n",
       "    </tr>\n",
       "  </tbody>\n",
       "</table>\n",
       "</div>"
      ],
      "text/plain": [
       "          Col1      Col2      Col3\n",
       "Col1  1.000000  0.996057 -0.996057\n",
       "Col2  0.996057  1.000000 -1.000000\n",
       "Col3 -0.996057 -1.000000  1.000000"
      ]
     },
     "execution_count": 15,
     "metadata": {},
     "output_type": "execute_result"
    }
   ],
   "source": [
    "df1.corr()"
   ]
  },
  {
   "cell_type": "code",
   "execution_count": 17,
   "id": "53997eb8-6188-4584-854a-f1213fd1f12d",
   "metadata": {},
   "outputs": [],
   "source": [
    "import seaborn as sns"
   ]
  },
  {
   "cell_type": "code",
   "execution_count": 18,
   "id": "d7a0ac76-fb03-43c0-9eb0-9ffdd06a4c87",
   "metadata": {},
   "outputs": [
    {
     "data": {
      "text/plain": [
       "<Axes: >"
      ]
     },
     "execution_count": 18,
     "metadata": {},
     "output_type": "execute_result"
    },
    {
     "data": {
      "image/png": "[encoded data removed]",
      "text/plain": [
       "<Figure size 640x480 with 2 Axes>"
      ]
     },
     "metadata": {},
     "output_type": "display_data"
    }
   ],
   "source": [
    "sns.heatmap(df1.corr(),annot=True,cmap='viridis')"
   ]
  },
  {
   "cell_type": "code",
   "execution_count": 22,
   "id": "b1b86928-6e08-4d99-8e0b-de87368aa792",
   "metadata": {},
   "outputs": [
    {
     "data": {
      "text/plain": [
       "<Axes: xlabel='Col2', ylabel='Col3'>"
      ]
     },
     "execution_count": 22,
     "metadata": {},
     "output_type": "execute_result"
    },
    {
     "data": {
      "image/png": "[encoded data removed]",
      "text/plain": [
       "<Figure size 640x480 with 1 Axes>"
      ]
     },
     "metadata": {},
     "output_type": "display_data"
    }
   ],
   "source": [
    "sns.boxplot(df1,x=\"Col2\",y=\"Col3\")"
   ]
  },
  {
   "cell_type": "code",
   "execution_count": 23,
   "id": "07a1ed5a-bf93-4cf1-96e0-cb995a289b6d",
   "metadata": {},
   "outputs": [
    {
     "data": {
      "text/plain": [
       "<Axes: >"
      ]
     },
     "execution_count": 23,
     "metadata": {},
     "output_type": "execute_result"
    },
    {
     "data": {
      "image/png": "[encoded data removed]",
      "text/plain": [
       "<Figure size 640x480 with 2 Axes>"
      ]
     },
     "metadata": {},
     "output_type": "display_data"
    }
   ],
   "source": [
    "sns.heatmap(df1.corr(),annot=True,cmap='tab10')"
   ]
  },
  {
   "cell_type": "code",
   "execution_count": 24,
   "id": "34b81b9c-cda4-4e35-8ed7-827da3c78ded",
   "metadata": {},
   "outputs": [
    {
     "data": {
      "text/plain": [
       "<Axes: >"
      ]
     },
     "execution_count": 24,
     "metadata": {},
     "output_type": "execute_result"
    },
    {
     "data": {
      "image/png": "[encoded data removed]",
      "text/plain": [
       "<Figure size 640x480 with 2 Axes>"
      ]
     },
     "metadata": {},
     "output_type": "display_data"
    }
   ],
   "source": [
    "sns.heatmap(df1.corr(),annot=True,cmap='Greys')"
   ]
  },
  {
   "cell_type": "code",
   "execution_count": 25,
   "id": "2a03f4da-5dbb-48cc-b6b8-10b13a4378a2",
   "metadata": {},
   "outputs": [
    {
     "ename": "NameError",
     "evalue": "name 'np' is not defined",
     "output_type": "error",
     "traceback": [
      "\u001b[1;31m---------------------------------------------------------------------------\u001b[0m",
      "\u001b[1;31mNameError\u001b[0m                                 Traceback (most recent call last)",
      "Cell \u001b[1;32mIn[25], line 1\u001b[0m\n\u001b[1;32m----> 1\u001b[0m r1\u001b[38;5;241m=\u001b[39m\u001b[43mnp\u001b[49m\u001b[38;5;241m.\u001b[39mrandom\u001b[38;5;241m.\u001b[39mrandint(low\u001b[38;5;241m=\u001b[39m\u001b[38;5;241m1\u001b[39m,high\u001b[38;5;241m=\u001b[39m\u001b[38;5;241m100\u001b[39m,size\u001b[38;5;241m=\u001b[39m(\u001b[38;5;241m25\u001b[39m))\n",
      "\u001b[1;31mNameError\u001b[0m: name 'np' is not defined"
     ]
    }
   ],
   "source": [
    "r1=np.random.randint(low=1,high=100,size=(25))"
   ]
  },
  {
   "cell_type": "code",
   "execution_count": null,
   "id": "a97c082b-a820-4312-bb60-73f9e48fa3e4",
   "metadata": {},
   "outputs": [],
   "source": []
  },
  {
   "cell_type": "code",
   "execution_count": null,
   "id": "b23669a0-a8ea-467d-bae6-a2344f267ae6",
   "metadata": {},
   "outputs": [],
   "source": []
  },
  {
   "cell_type": "markdown",
   "id": "2820287e-9018-43e7-9578-88e89fd13c4e",
   "metadata": {},
   "source": [
    "### shop keeper"
   ]
  },
  {
   "cell_type": "code",
   "execution_count": null,
   "id": "c951c1ab-bc42-4d58-8dd7-ade942b32ab0",
   "metadata": {},
   "outputs": [],
   "source": []
  },
  {
   "cell_type": "code",
   "execution_count": null,
   "id": "2cea3063-7e12-4f56-b4b5-96e74bec02b7",
   "metadata": {},
   "outputs": [],
   "source": []
  },
  {
   "cell_type": "code",
   "execution_count": null,
   "id": "f2d743aa-d4fc-45a0-85ae-b1abb7e7695d",
   "metadata": {},
   "outputs": [],
   "source": []
  },
  {
   "cell_type": "code",
   "execution_count": 38,
   "id": "391f04cd-04de-447b-a37d-c93a6fb18aa1",
   "metadata": {},
   "outputs": [],
   "source": [
    "expected=[50,50,50,50,50]\n",
    "observed=[50,60,40,47,53]"
   ]
  },
  {
   "cell_type": "code",
   "execution_count": 39,
   "id": "9c18917d-b356-48e7-8c90-172a525837bb",
   "metadata": {},
   "outputs": [],
   "source": [
    "chi_statistic,p_valuechi=stats.chisquare(f_obs=observed,f_exp=expected)"
   ]
  },
  {
   "cell_type": "code",
   "execution_count": 40,
   "id": "64e09e1f-d10d-4cc5-9cb0-235e4d0af3e4",
   "metadata": {},
   "outputs": [
    {
     "data": {
      "text/plain": [
       "np.float64(4.359999999999999)"
      ]
     },
     "execution_count": 40,
     "metadata": {},
     "output_type": "execute_result"
    }
   ],
   "source": [
    "chi_statistic"
   ]
  },
  {
   "cell_type": "code",
   "execution_count": 41,
   "id": "c16629ee-2b85-46ed-8c73-82cc5fb7cabf",
   "metadata": {},
   "outputs": [
    {
     "data": {
      "text/plain": [
       "np.float64(0.3594720674366307)"
      ]
     },
     "execution_count": 41,
     "metadata": {},
     "output_type": "execute_result"
    }
   ],
   "source": [
    "p_valuechi"
   ]
  },
  {
   "cell_type": "code",
   "execution_count": 42,
   "id": "19333a8a-20db-4fa0-acdb-6754ca5b7b38",
   "metadata": {},
   "outputs": [
    {
     "name": "stdout",
     "output_type": "stream",
     "text": [
      "Accept null hypothesis, that equal number of people comes in shop each week days\n"
     ]
    }
   ],
   "source": [
    "if (p_valuechi>=alpha):\n",
    "    print(\"Accept null hypothesis, that equal number of people comes in shop each week days\")\n",
    "else:\n",
    "    print(\"Reject null hypothesi, that different no: of people on each weekdays \")"
   ]
  },
  {
   "cell_type": "code",
   "execution_count": null,
   "id": "2848ccc1-2c94-4849-bc34-1c8b2e2c2133",
   "metadata": {},
   "outputs": [],
   "source": []
  }
 ],
 "metadata": {
  "kernelspec": {
   "display_name": "Python 3 (ipykernel)",
   "language": "python",
   "name": "python3"
  },
  "language_info": {
   "codemirror_mode": {
    "name": "ipython",
    "version": 3
   },
   "file_extension": ".py",
   "mimetype": "text/x-python",
   "name": "python",
   "nbconvert_exporter": "python",
   "pygments_lexer": "ipython3",
   "version": "3.12.3"
  }
 },
 "nbformat": 4,
 "nbformat_minor": 5
}
